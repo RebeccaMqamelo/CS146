{
 "cells": [
  {
   "cell_type": "markdown",
   "metadata": {},
   "source": [
    "# Pre-class work\n",
    "Information provided:\n",
    "\n",
    "● The data are normally distributed. The error margins given below represent 1\n",
    "\n",
    "standard deviation from the mean of the parameter.\n",
    "\n",
    "● Constraint: the mean of the data is approximately 2.3 ± 0.5.\n",
    "\n",
    "● Constraint: the variance of the data is approximately 2.75 ± 1.\n",
    "\n",
    "● Find μ₀, ν₀, α₀, β₀ hyperparameters for the normal-inverse-gamma prior that\n",
    "match this information."
   ]
  },
  {
   "cell_type": "code",
   "execution_count": 1,
   "metadata": {},
   "outputs": [
    {
     "name": "stdout",
     "output_type": "stream",
     "text": [
      "The appropriate prior hyperparameters are: [ 2.29999934  5.5000029   9.56248713 23.54682702]\n"
     ]
    }
   ],
   "source": [
    "import numpy as np\n",
    "import scipy.stats as sts\n",
    "from scipy.optimize import minimize\n",
    "import matplotlib.pyplot as plt\n",
    "\n",
    "# OPTIMIZATION SOLUTION\n",
    "\n",
    "# Normal-inverse-gamma prior hyperparameters\n",
    "parameters = [2.3, 2.75, 3, 1] # [mu, nu, alpha, beta] with alpha > 2 so that we don't have undefined functions below \n",
    "\n",
    "def objective_function(parameters):\n",
    "    nu = parameters[1]\n",
    "    alpha = parameters[2]\n",
    "    beta = parameters[3]\n",
    "    \n",
    "    mean_of_mean = parameters[0]\n",
    "    mean_of_variance = beta/(alpha-1)\n",
    "    variance_of_mean = beta/((alpha-1)*nu)\n",
    "    variance_of_variance = beta**2/(((alpha-1)**2)*(alpha-2))\n",
    "    function = (mean_of_mean - 2.3)**2 + (mean_of_variance - 2.75)**2 + (variance_of_mean - 0.5)**2 + (variance_of_variance - 1)**2\n",
    "    return function\n",
    "\n",
    "# minimize() returns the max likelihood estimate over a range of parameters \n",
    "# – which is what we would usually use the posterior for in Bayes formula:\n",
    "result = minimize(objective_function, parameters)\n",
    "# Info about the minimum (e.g. whether it converges or not, etc.):\n",
    "# NOTE: not sure about my syntax here, should \"x\" be \"parameters\"?\n",
    "new_parameters = result.x  \n",
    "print(\"The appropriate prior hyperparameters are:\", new_parameters)"
   ]
  },
  {
   "cell_type": "code",
   "execution_count": 3,
   "metadata": {},
   "outputs": [
    {
     "ename": "ValueError",
     "evalue": "x and y must have same first dimension, but have shapes (4,) and (1,)",
     "output_type": "error",
     "traceback": [
      "\u001b[0;31m---------------------------------------------------------------------------\u001b[0m",
      "\u001b[0;31mValueError\u001b[0m                                Traceback (most recent call last)",
      "\u001b[0;32m<ipython-input-3-e4b50d57d42d>\u001b[0m in \u001b[0;36m<module>\u001b[0;34m\u001b[0m\n\u001b[1;32m      4\u001b[0m \u001b[0mplot_y\u001b[0m \u001b[0;34m=\u001b[0m \u001b[0mobjective_function\u001b[0m\u001b[0;34m(\u001b[0m\u001b[0mplot_x\u001b[0m\u001b[0;34m)\u001b[0m\u001b[0;34m\u001b[0m\u001b[0;34m\u001b[0m\u001b[0m\n\u001b[1;32m      5\u001b[0m \u001b[0mplt\u001b[0m\u001b[0;34m.\u001b[0m\u001b[0mfigure\u001b[0m\u001b[0;34m(\u001b[0m\u001b[0mfigsize\u001b[0m\u001b[0;34m=\u001b[0m\u001b[0;34m(\u001b[0m\u001b[0;36m9\u001b[0m\u001b[0;34m,\u001b[0m \u001b[0;36m4.5\u001b[0m\u001b[0;34m)\u001b[0m\u001b[0;34m)\u001b[0m\u001b[0;34m\u001b[0m\u001b[0;34m\u001b[0m\u001b[0m\n\u001b[0;32m----> 6\u001b[0;31m \u001b[0mplt\u001b[0m\u001b[0;34m.\u001b[0m\u001b[0mplot\u001b[0m\u001b[0;34m(\u001b[0m\u001b[0mplot_x\u001b[0m\u001b[0;34m,\u001b[0m \u001b[0mplot_y\u001b[0m\u001b[0;34m)\u001b[0m\u001b[0;34m\u001b[0m\u001b[0;34m\u001b[0m\u001b[0m\n\u001b[0m\u001b[1;32m      7\u001b[0m \u001b[0;32mfor\u001b[0m \u001b[0mx_initial\u001b[0m \u001b[0;32min\u001b[0m \u001b[0;34m[\u001b[0m\u001b[0;36m2.3\u001b[0m\u001b[0;34m,\u001b[0m \u001b[0;36m2.75\u001b[0m\u001b[0;34m,\u001b[0m \u001b[0;36m3\u001b[0m\u001b[0;34m,\u001b[0m \u001b[0;36m1\u001b[0m\u001b[0;34m]\u001b[0m\u001b[0;34m:\u001b[0m\u001b[0;34m\u001b[0m\u001b[0;34m\u001b[0m\u001b[0m\n\u001b[1;32m      8\u001b[0m     \u001b[0mresult\u001b[0m \u001b[0;34m=\u001b[0m \u001b[0mminimize\u001b[0m\u001b[0;34m(\u001b[0m\u001b[0mf\u001b[0m\u001b[0;34m,\u001b[0m \u001b[0mx_initial\u001b[0m\u001b[0;34m)\u001b[0m\u001b[0;34m\u001b[0m\u001b[0;34m\u001b[0m\u001b[0m\n",
      "\u001b[0;32m//anaconda3/lib/python3.7/site-packages/matplotlib/pyplot.py\u001b[0m in \u001b[0;36mplot\u001b[0;34m(scalex, scaley, data, *args, **kwargs)\u001b[0m\n\u001b[1;32m   2787\u001b[0m     return gca().plot(\n\u001b[1;32m   2788\u001b[0m         *args, scalex=scalex, scaley=scaley, **({\"data\": data} if data\n\u001b[0;32m-> 2789\u001b[0;31m         is not None else {}), **kwargs)\n\u001b[0m\u001b[1;32m   2790\u001b[0m \u001b[0;34m\u001b[0m\u001b[0m\n\u001b[1;32m   2791\u001b[0m \u001b[0;34m\u001b[0m\u001b[0m\n",
      "\u001b[0;32m//anaconda3/lib/python3.7/site-packages/matplotlib/axes/_axes.py\u001b[0m in \u001b[0;36mplot\u001b[0;34m(self, scalex, scaley, data, *args, **kwargs)\u001b[0m\n\u001b[1;32m   1664\u001b[0m         \"\"\"\n\u001b[1;32m   1665\u001b[0m         \u001b[0mkwargs\u001b[0m \u001b[0;34m=\u001b[0m \u001b[0mcbook\u001b[0m\u001b[0;34m.\u001b[0m\u001b[0mnormalize_kwargs\u001b[0m\u001b[0;34m(\u001b[0m\u001b[0mkwargs\u001b[0m\u001b[0;34m,\u001b[0m \u001b[0mmlines\u001b[0m\u001b[0;34m.\u001b[0m\u001b[0mLine2D\u001b[0m\u001b[0;34m.\u001b[0m\u001b[0m_alias_map\u001b[0m\u001b[0;34m)\u001b[0m\u001b[0;34m\u001b[0m\u001b[0;34m\u001b[0m\u001b[0m\n\u001b[0;32m-> 1666\u001b[0;31m         \u001b[0mlines\u001b[0m \u001b[0;34m=\u001b[0m \u001b[0;34m[\u001b[0m\u001b[0;34m*\u001b[0m\u001b[0mself\u001b[0m\u001b[0;34m.\u001b[0m\u001b[0m_get_lines\u001b[0m\u001b[0;34m(\u001b[0m\u001b[0;34m*\u001b[0m\u001b[0margs\u001b[0m\u001b[0;34m,\u001b[0m \u001b[0mdata\u001b[0m\u001b[0;34m=\u001b[0m\u001b[0mdata\u001b[0m\u001b[0;34m,\u001b[0m \u001b[0;34m**\u001b[0m\u001b[0mkwargs\u001b[0m\u001b[0;34m)\u001b[0m\u001b[0;34m]\u001b[0m\u001b[0;34m\u001b[0m\u001b[0;34m\u001b[0m\u001b[0m\n\u001b[0m\u001b[1;32m   1667\u001b[0m         \u001b[0;32mfor\u001b[0m \u001b[0mline\u001b[0m \u001b[0;32min\u001b[0m \u001b[0mlines\u001b[0m\u001b[0;34m:\u001b[0m\u001b[0;34m\u001b[0m\u001b[0;34m\u001b[0m\u001b[0m\n\u001b[1;32m   1668\u001b[0m             \u001b[0mself\u001b[0m\u001b[0;34m.\u001b[0m\u001b[0madd_line\u001b[0m\u001b[0;34m(\u001b[0m\u001b[0mline\u001b[0m\u001b[0;34m)\u001b[0m\u001b[0;34m\u001b[0m\u001b[0;34m\u001b[0m\u001b[0m\n",
      "\u001b[0;32m//anaconda3/lib/python3.7/site-packages/matplotlib/axes/_base.py\u001b[0m in \u001b[0;36m__call__\u001b[0;34m(self, *args, **kwargs)\u001b[0m\n\u001b[1;32m    223\u001b[0m                 \u001b[0mthis\u001b[0m \u001b[0;34m+=\u001b[0m \u001b[0margs\u001b[0m\u001b[0;34m[\u001b[0m\u001b[0;36m0\u001b[0m\u001b[0;34m]\u001b[0m\u001b[0;34m,\u001b[0m\u001b[0;34m\u001b[0m\u001b[0;34m\u001b[0m\u001b[0m\n\u001b[1;32m    224\u001b[0m                 \u001b[0margs\u001b[0m \u001b[0;34m=\u001b[0m \u001b[0margs\u001b[0m\u001b[0;34m[\u001b[0m\u001b[0;36m1\u001b[0m\u001b[0;34m:\u001b[0m\u001b[0;34m]\u001b[0m\u001b[0;34m\u001b[0m\u001b[0;34m\u001b[0m\u001b[0m\n\u001b[0;32m--> 225\u001b[0;31m             \u001b[0;32myield\u001b[0m \u001b[0;32mfrom\u001b[0m \u001b[0mself\u001b[0m\u001b[0;34m.\u001b[0m\u001b[0m_plot_args\u001b[0m\u001b[0;34m(\u001b[0m\u001b[0mthis\u001b[0m\u001b[0;34m,\u001b[0m \u001b[0mkwargs\u001b[0m\u001b[0;34m)\u001b[0m\u001b[0;34m\u001b[0m\u001b[0;34m\u001b[0m\u001b[0m\n\u001b[0m\u001b[1;32m    226\u001b[0m \u001b[0;34m\u001b[0m\u001b[0m\n\u001b[1;32m    227\u001b[0m     \u001b[0;32mdef\u001b[0m \u001b[0mget_next_color\u001b[0m\u001b[0;34m(\u001b[0m\u001b[0mself\u001b[0m\u001b[0;34m)\u001b[0m\u001b[0;34m:\u001b[0m\u001b[0;34m\u001b[0m\u001b[0;34m\u001b[0m\u001b[0m\n",
      "\u001b[0;32m//anaconda3/lib/python3.7/site-packages/matplotlib/axes/_base.py\u001b[0m in \u001b[0;36m_plot_args\u001b[0;34m(self, tup, kwargs)\u001b[0m\n\u001b[1;32m    389\u001b[0m             \u001b[0mx\u001b[0m\u001b[0;34m,\u001b[0m \u001b[0my\u001b[0m \u001b[0;34m=\u001b[0m \u001b[0mindex_of\u001b[0m\u001b[0;34m(\u001b[0m\u001b[0mtup\u001b[0m\u001b[0;34m[\u001b[0m\u001b[0;34m-\u001b[0m\u001b[0;36m1\u001b[0m\u001b[0;34m]\u001b[0m\u001b[0;34m)\u001b[0m\u001b[0;34m\u001b[0m\u001b[0;34m\u001b[0m\u001b[0m\n\u001b[1;32m    390\u001b[0m \u001b[0;34m\u001b[0m\u001b[0m\n\u001b[0;32m--> 391\u001b[0;31m         \u001b[0mx\u001b[0m\u001b[0;34m,\u001b[0m \u001b[0my\u001b[0m \u001b[0;34m=\u001b[0m \u001b[0mself\u001b[0m\u001b[0;34m.\u001b[0m\u001b[0m_xy_from_xy\u001b[0m\u001b[0;34m(\u001b[0m\u001b[0mx\u001b[0m\u001b[0;34m,\u001b[0m \u001b[0my\u001b[0m\u001b[0;34m)\u001b[0m\u001b[0;34m\u001b[0m\u001b[0;34m\u001b[0m\u001b[0m\n\u001b[0m\u001b[1;32m    392\u001b[0m \u001b[0;34m\u001b[0m\u001b[0m\n\u001b[1;32m    393\u001b[0m         \u001b[0;32mif\u001b[0m \u001b[0mself\u001b[0m\u001b[0;34m.\u001b[0m\u001b[0mcommand\u001b[0m \u001b[0;34m==\u001b[0m \u001b[0;34m'plot'\u001b[0m\u001b[0;34m:\u001b[0m\u001b[0;34m\u001b[0m\u001b[0;34m\u001b[0m\u001b[0m\n",
      "\u001b[0;32m//anaconda3/lib/python3.7/site-packages/matplotlib/axes/_base.py\u001b[0m in \u001b[0;36m_xy_from_xy\u001b[0;34m(self, x, y)\u001b[0m\n\u001b[1;32m    268\u001b[0m         \u001b[0;32mif\u001b[0m \u001b[0mx\u001b[0m\u001b[0;34m.\u001b[0m\u001b[0mshape\u001b[0m\u001b[0;34m[\u001b[0m\u001b[0;36m0\u001b[0m\u001b[0;34m]\u001b[0m \u001b[0;34m!=\u001b[0m \u001b[0my\u001b[0m\u001b[0;34m.\u001b[0m\u001b[0mshape\u001b[0m\u001b[0;34m[\u001b[0m\u001b[0;36m0\u001b[0m\u001b[0;34m]\u001b[0m\u001b[0;34m:\u001b[0m\u001b[0;34m\u001b[0m\u001b[0;34m\u001b[0m\u001b[0m\n\u001b[1;32m    269\u001b[0m             raise ValueError(\"x and y must have same first dimension, but \"\n\u001b[0;32m--> 270\u001b[0;31m                              \"have shapes {} and {}\".format(x.shape, y.shape))\n\u001b[0m\u001b[1;32m    271\u001b[0m         \u001b[0;32mif\u001b[0m \u001b[0mx\u001b[0m\u001b[0;34m.\u001b[0m\u001b[0mndim\u001b[0m \u001b[0;34m>\u001b[0m \u001b[0;36m2\u001b[0m \u001b[0;32mor\u001b[0m \u001b[0my\u001b[0m\u001b[0;34m.\u001b[0m\u001b[0mndim\u001b[0m \u001b[0;34m>\u001b[0m \u001b[0;36m2\u001b[0m\u001b[0;34m:\u001b[0m\u001b[0;34m\u001b[0m\u001b[0;34m\u001b[0m\u001b[0m\n\u001b[1;32m    272\u001b[0m             raise ValueError(\"x and y can be no greater than 2-D, but have \"\n",
      "\u001b[0;31mValueError\u001b[0m: x and y must have same first dimension, but have shapes (4,) and (1,)"
     ]
    },
    {
     "data": {
      "image/png": "[encoded data removed]",
      "text/plain": [
       "<Figure size 648x324 with 1 Axes>"
      ]
     },
     "metadata": {
      "needs_background": "light"
     },
     "output_type": "display_data"
    }
   ],
   "source": [
    "# VISUALIZATION \n",
    "# (not quite sure what I'm doing here, but I thought it might be interesting to\n",
    "# visualize the result – current code does not work, however...)\n",
    "\n",
    "plot_x = np.linspace(0, 10, 4)\n",
    "plot_y = objective_function(plot_x)\n",
    "plt.figure(figsize=(9, 4.5))\n",
    "plt.plot(plot_x, plot_y)\n",
    "for x_initial in [2.3, 2.75, 3, 1]:\n",
    "    result = minimize(f, x_initial)\n",
    "    x_final = result.x\n",
    "    plt.plot([x_initial, x_final], [f(x_initial), f(x_final)], 'o')\n",
    "    print('Started at %.2f; ended at %.2f; f(%.2f) = %.2f' % (\n",
    "    x_initial, x_final, x_final, f(x_final)))\n",
    "plt.show()"
   ]
  },
  {
   "cell_type": "code",
   "execution_count": null,
   "metadata": {},
   "outputs": [],
   "source": [
    "# NORMAL-INVERSE-GAMMA DISTRIBUTION SOLUTION\n",
    "\n",
    "# Definitions from Session 3.1:\n",
    "\n",
    "def norminvgamma_pdf(x, sigma2, mu, nu, alpha, beta):\n",
    "    # Probability density function of the normal-inverse-gamma \n",
    "    # x (mean) and sigma2 (variance).\n",
    "    return (\n",
    "        sts.norm.pdf(x, loc=mu, scale=np.sqrt(sigma2 / nu)) *\n",
    "        sts.invgamma.pdf(sigma2, a=alpha, scale=beta))\n",
    "\n",
    "def norminvgamma_rvs(mu, nu, alpha, beta, size=1):\n",
    "    # Generate n samples from the normal-inverse-gamma distribution. \n",
    "    # This function returns a (size x 2) matrix where each row contains a sample, (x, sigma2).\n",
    "    \n",
    "    # Sample sigma^2 from the inverse-gamma distribution\n",
    "    sigma2 = sts.invgamma.rvs(a=alpha, scale=beta, size=size)\n",
    "    # Sample x from the normal distribution\n",
    "    x = sts.norm.rvs(loc=mu, scale=np.sqrt(sigma2 / nu), size=size)\n",
    "    return np.vstack((x, sigma2)).transpose()\n",
    "\n",
    "# Define new parameters to plug into the distribution:\n",
    "mu = new_parameters[0]\n",
    "nu = new_parameters[1]\n",
    "alpha = new_parameters[2]\n",
    "beta = new_parameters[3]\n",
    "\n",
    "# Generate the normal-inverse-gamma-distribution over these parameters:\n",
    "samples = norminvgamma_rvs(mu, nu, alpha, beta, size=10000)\n",
    "print(samples)\n",
    "\n",
    "# Not sure why code is not running... \n",
    "\n",
    "\"\"\"\n",
    "plt.figure(None, (8, 4))\n",
    "domain = np.linspace(-100, 100, 10000)\n",
    "for each in samples:\n",
    "    plt.plot(domain, sts.norm.pdf(domain, each[0], each[1]))\n",
    "plt.show()\n",
    "\"\"\"\n",
    "\n",
    "#print(samples[:,0].mean(), samples[:,0].std())\n",
    "#print(samples[:,1].mean(), samples[:,1].std())"
   ]
  },
  {
   "cell_type": "markdown",
   "metadata": {},
   "source": [
    "# Personal notes"
   ]
  },
  {
   "cell_type": "code",
   "execution_count": null,
   "metadata": {},
   "outputs": [],
   "source": [
    "def f(x):\n",
    "# Define the function to maximize\n",
    "    return np.exp(-(x-2)**2)\n",
    "def minus_f(x):\n",
    "# Negative of the function above so we can minimize this one\n",
    "    return -f(x)\n",
    "result = minimize(minus_f, 1)\n",
    "print(result.x)"
   ]
  },
  {
   "cell_type": "code",
   "execution_count": null,
   "metadata": {},
   "outputs": [],
   "source": [
    "def f(x):\n",
    "    return np.sin(x * np.cos(x))\n",
    "\n",
    "plot_x = np.linspace(0, 10, 500)\n",
    "plot_y = f(plot_x)\n",
    "plt.figure(figsize=(9, 4.5))\n",
    "plt.plot(plot_x, plot_y)\n",
    "for x_initial in [2, 4, 6, 8]:\n",
    "    result = minimize(f, x_initial)\n",
    "    x_final = result.x\n",
    "    plt.plot([x_initial, x_final], [f(x_initial), f(x_final)], 'o')\n",
    "    print('Started at %.2f; ended at %.2f; f(%.2f) = %.2f' % (\n",
    "    x_initial, x_final, x_final, f(x_final)))\n",
    "plt.show()"
   ]
  },
  {
   "cell_type": "code",
   "execution_count": null,
   "metadata": {},
   "outputs": [],
   "source": [
    "# Rosenbrook function\n",
    "# The global minimum is inside a long, narrow, parabolic shaped flat valley. \n",
    "# To find the valley is trivial. To converge to the global minimum, however, is difficult.\n",
    "\n",
    "from mpl_toolkits.mplot3d import Axes3D\n",
    "import matplotlib.pyplot as plt\n",
    "from matplotlib import cm # Color maps\n",
    "import numpy as np\n",
    "# Set up figure and 3d axes\n",
    "fig = plt.figure(figsize=(12,6))\n",
    "ax = fig.gca(projection='3d')\n",
    "# Make the data to plot\n",
    "x = np.linspace(-2, 2, 25)\n",
    "y = np.linspace(-1, 3, 25)\n",
    "X, Y = np.meshgrid(x, y)\n",
    "Z = (1 - X)**2 + 100*(Y - X**2)**2 # turning 2d graph into 3d space\n",
    "# Plot a surface\n",
    "surf = ax.plot_surface(X, Y, Z, cmap=cm.PiYG_r)\n",
    "plt.show()\n",
    "\n",
    "# Using minimize to solve this non-visually:\n",
    "import numpy as np\n",
    "from scipy.optimize import minimize\n",
    "def f(x):\n",
    "    return (1 - x[0])**2 + 100*(x[1] - x[0]**2)**2\n",
    "x_initial = np.array([0, 0])\n",
    "result = minimize(f, x_initial)\n",
    "x_final = result.x\n",
    "print('Started at', x_initial)\n",
    "print('Ended at', x_final)\n",
    "print('f(%s) = %.6f' % (x_final, f(x_final)))"
   ]
  },
  {
   "cell_type": "code",
   "execution_count": null,
   "metadata": {},
   "outputs": [],
   "source": [
    "# HIMMELBLAU FUNCTION\n",
    "\n",
    "from mpl_toolkits.mplot3d import Axes3D\n",
    "import matplotlib.pyplot as plt\n",
    "from matplotlib import cm # Color maps\n",
    "import numpy as np\n",
    "# Set up figure and 3d axes\n",
    "fig = plt.figure(figsize=(12,8))\n",
    "ax = fig.gca(projection='3d')\n",
    "# Make the data to plot\n",
    "x = np.linspace(-6, 6, 50)\n",
    "y = np.linspace(-6, 6, 50)\n",
    "X, Y = np.meshgrid(x, y)\n",
    "Z = (X**2 + Y - 11)**2 + (X + Y**2 - 7)**2 # Himmelblau formula\n",
    "# Plot a surface\n",
    "surf = ax.plot_surface(X, Y, Z, cmap=cm.rainbow, vmin=0, vmax=800)\n",
    "plt.xlabel('x')\n",
    "plt.ylabel('y')\n",
    "ax.view_init(60, 120) # Rotate 3d axes for a better view\n",
    "plt.show()\n",
    "\n",
    "# Non-visually using minimize\n",
    "import numpy as np\n",
    "from scipy.optimize import minimize\n",
    "def f(x):\n",
    "    return (x[0]**2 + x[1] - 11)**2 + (x[0] + x[1]**2 - 7)**2\n",
    "for x_initial in [\n",
    "np.array([-4, -4]),\n",
    "np.array([2, -2]),\n",
    "np.array([2, 2]),\n",
    "np.array([-4, 4])\n",
    "]:\n",
    "    result = minimize(f, x_initial)\n",
    "    x_final = result.x\n",
    "print('Started at', x_initial)\n",
    "print('Ended at', x_final)\n",
    "print('f(%s) = %.6f' % (x_final, f(x_final)))\n",
    "print()"
   ]
  }
 ],
 "metadata": {
  "kernelspec": {
   "display_name": "Python 3",
   "language": "python",
   "name": "python3"
  },
  "language_info": {
   "codemirror_mode": {
    "name": "ipython",
    "version": 3
   },
   "file_extension": ".py",
   "mimetype": "text/x-python",
   "name": "python",
   "nbconvert_exporter": "python",
   "pygments_lexer": "ipython3",
   "version": "3.7.3"
  }
 },
 "nbformat": 4,
 "nbformat_minor": 2
}
