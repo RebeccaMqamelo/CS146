{
 "cells": [
  {
   "cell_type": "markdown",
   "metadata": {},
   "source": [
    "# Call center data modeling\n",
    "\n",
    "You are advising a client on the number of call center agents they need to handle their customer support load. We start by modeling the number of phone calls we expect to come into the call center during each hour of the day.\n",
    "\n",
    "You are provided with a data set of the intervals between phone calls arriving during one day. Each value is a time in minutes indicating the amount of time that passed between receiving two consecutive phone calls.\n",
    "\n",
    "## Loading the data"
   ]
  },
  {
   "cell_type": "code",
   "execution_count": 82,
   "metadata": {},
   "outputs": [],
   "source": [
    "import numpy as np\n",
    "import scipy as sp\n",
    "import scipy.stats as sts\n",
    "from scipy.stats import t\n",
    "import matplotlib.pyplot as plt\n",
    "\n",
    "%matplotlib inline"
   ]
  },
  {
   "cell_type": "code",
   "execution_count": 8,
   "metadata": {},
   "outputs": [
    {
     "name": "stdout",
     "output_type": "stream",
     "text": [
      "Size of data set: 5856\n",
      "First 3 values in data set: [30.   3.4  3.2]\n",
      "Sum of data set: 1441.6838153800093\n"
     ]
    }
   ],
   "source": [
    "# Load the data set containing durations between calls arriving at the call\n",
    "# center during 1 day. All values are in minutes.\n",
    "waiting_times_day = np.loadtxt('CS146_call_center_data.csv')\n",
    "\n",
    "# Display some basic information about the data set.\n",
    "print('Size of data set:', len(waiting_times_day))\n",
    "print('First 3 values in data set:', waiting_times_day[:3])\n",
    "print('Sum of data set:', sum(waiting_times_day))"
   ]
  },
  {
   "cell_type": "markdown",
   "metadata": {},
   "source": [
    "Since the values are intervals between calls measured in minutes, this means\n",
    "\n",
    "* we assume the first call happened at 00:00 (midnight),\n",
    "* the second call happened at about 00:30 (30 minutes after midnight),\n",
    "* the third call happened at about 00:33 (30 + 3.4 minutes),\n",
    "* the fourth call happened at about 00:37, etc.\n",
    "\n",
    "When we sum the values, we get about 1440 minutes (1 day)."
   ]
  },
  {
   "cell_type": "markdown",
   "metadata": {},
   "source": [
    "You are told that the number of calls arriving varies quite a lot, depending on which hour of the day it is. The smallest number of calls usually occur around 3am or 4am. Most calls usually come in between 11am and 1pm.\n",
    "\n",
    "## Data pre-processing\n",
    "Since we expect different call rates during different hours, we split the data set into 24 separate series — one for each hour of the day."
   ]
  },
  {
   "cell_type": "code",
   "execution_count": 11,
   "metadata": {},
   "outputs": [
    {
     "name": "stdout",
     "output_type": "stream",
     "text": [
      "00:00-01:00 - 5 calls\n",
      "01:00-02:00 - 4 calls\n",
      "02:00-03:00 - 6 calls\n",
      "03:00-04:00 - 8 calls\n",
      "04:00-05:00 - 26 calls\n",
      "05:00-06:00 - 53 calls\n",
      "06:00-07:00 - 93 calls\n",
      "07:00-08:00 - 173 calls\n",
      "08:00-09:00 - 254 calls\n",
      "09:00-10:00 - 345 calls\n",
      "10:00-11:00 - 496 calls\n",
      "11:00-12:00 - 924 calls\n",
      "12:00-13:00 - 858 calls\n",
      "13:00-14:00 - 382 calls\n",
      "14:00-15:00 - 185 calls\n",
      "15:00-16:00 - 207 calls\n",
      "16:00-17:00 - 263 calls\n",
      "17:00-18:00 - 419 calls\n",
      "18:00-19:00 - 531 calls\n",
      "19:00-20:00 - 400 calls\n",
      "20:00-21:00 - 137 calls\n",
      "21:00-22:00 - 51 calls\n",
      "22:00-23:00 - 20 calls\n",
      "23:00-24:00 - 16 calls\n"
     ]
    }
   ],
   "source": [
    "# Make 24 empty lists, one per hour.\n",
    "waiting_times_per_hour = [[] for i in range(24)]\n",
    "\n",
    "# Split the data into 24 separate series, one for each hour of the day.\n",
    "current_time = 0\n",
    "for t in waiting_times_day:\n",
    "    current_hour = int(current_time // 60) # floors the division e.g. 34 min will be in the \"00:00-01:00\" hour.\n",
    "    current_time += t\n",
    "    waiting_times_per_hour[current_hour].append(t)\n",
    "\n",
    "for hour, calls_in_hour in enumerate(waiting_times_per_hour):\n",
    "    print(f'{hour:02}:00-{hour + 1:02}:00 - {len(calls_in_hour)} calls')"
   ]
  },
  {
   "cell_type": "markdown",
   "metadata": {},
   "source": [
    "## Task 1: Plot the number of calls per hour\n",
    "Use Matplotlib to visualize the number of calls that arrive during each hour of the day, stored in the variable `waiting_times_per_hour`. The call numbers are shown in the output above. You should find an appropriate way to visualize it."
   ]
  },
  {
   "cell_type": "code",
   "execution_count": 64,
   "metadata": {},
   "outputs": [],
   "source": [
    "# Saving this for assignment: trying to write timestamp in the form \"00:00-01:00\".\n",
    "# Code does not work yet (see below for simplified version for PCW)\n",
    "\n",
    "# from datetime import datetime\n",
    "\n",
    "# time_range = []\n",
    "# for hour in waiting_times_per_hour:\n",
    "    # timestamp = waiting_times_per_hour.index(hour)\n",
    "    # hour_date_time_format = datetime.fromtimestamp(timestamp)\n",
    "    # current_time = hour_date_time_format.strftime(\"%H:%M\")\n",
    "    # time_range.append(current_time)\n",
    "    \n",
    "# time_range"
   ]
  },
  {
   "cell_type": "code",
   "execution_count": 66,
   "metadata": {},
   "outputs": [],
   "source": [
    "# Preparing the x and y values for the plot:\n",
    "x_time = []\n",
    "for hour in waiting_times_per_hour:\n",
    "    x_time.append(waiting_times_per_hour.index(hour))\n",
    "\n",
    "y_calls = []\n",
    "for calls_in_hour in waiting_times_per_hour:\n",
    "    y_calls.append(len(calls_in_hour))"
   ]
  },
  {
   "cell_type": "code",
   "execution_count": 67,
   "metadata": {},
   "outputs": [
    {
     "data": {
      "image/png": "[encoded data removed]",
      "text/plain": [
       "<Figure size 576x288 with 1 Axes>"
      ]
     },
     "metadata": {
      "needs_background": "light"
     },
     "output_type": "display_data"
    }
   ],
   "source": [
    "plt.figure(figsize=(8, 4))\n",
    "plt.bar(x_time, y_calls)\n",
    "plt.xticks(x_time)\n",
    "plt.title('bar plot of number of calls per hour')\n",
    "plt.show()"
   ]
  },
  {
   "cell_type": "markdown",
   "metadata": {},
   "source": [
    "## Task 2: Plot a histogram of the durations for one hour\n",
    "Take the data for the 9th hour (so between 9am and 10am) and plot a histogram showing the distribution over waiting times between calls during that hour."
   ]
  },
  {
   "cell_type": "code",
   "execution_count": 81,
   "metadata": {},
   "outputs": [
    {
     "data": {
      "image/png": "[encoded data removed]",
      "text/plain": [
       "<Figure size 576x288 with 1 Axes>"
      ]
     },
     "metadata": {
      "needs_background": "light"
     },
     "output_type": "display_data"
    }
   ],
   "source": [
    "n_calls_in_hour = len(waiting_times_per_hour[9])\n",
    "plt.figure(figsize=(8, 4))\n",
    "plt.hist(waiting_times_per_hour[9], bins=n_calls_in_hour)\n",
    "plt.show()"
   ]
  },
  {
   "cell_type": "markdown",
   "metadata": {
    "collapsed": true
   },
   "source": [
    "## Task 3: Guess the distribution\n",
    "What type of distribution best represents the data in your histogram?\n",
    "\n",
    "* Identify a type of distribution. **In class you will use this distribution as your likelihood function in a Bayesian inference problem.**\n",
    "* Guess what the parameters of the distribution are. (This is just a guess for now. In class we will infer the values of the parameters.)\n",
    "* Plot the pdf of your best guess on top of your histogram, to see if they match.\n",
    "* **Important:** You have to normalize your histogram so that it will have the same vertical scale as the plot of the pdf. You can normalize a histogram by using the argument `density=True` in the `hist` function."
   ]
  },
  {
   "cell_type": "markdown",
   "metadata": {
    "collapsed": true
   },
   "source": [
    "Guess: Bimodal distribution (mixture of two normal distributions = \"Student-t\")\n",
    "\n",
    "Parameters: two mus, two sigmas, two mixing coefficients pi_1 and pi_2"
   ]
  },
  {
   "cell_type": "code",
   "execution_count": 85,
   "metadata": {},
   "outputs": [
    {
     "ename": "TypeError",
     "evalue": "_parse_args() missing 1 required positional argument: 'df'",
     "output_type": "error",
     "traceback": [
      "\u001b[0;31m---------------------------------------------------------------------------\u001b[0m",
      "\u001b[0;31mTypeError\u001b[0m                                 Traceback (most recent call last)",
      "\u001b[0;32m<ipython-input-85-086760f91717>\u001b[0m in \u001b[0;36m<module>\u001b[0;34m\u001b[0m\n\u001b[1;32m      2\u001b[0m \u001b[0;34m\u001b[0m\u001b[0m\n\u001b[1;32m      3\u001b[0m \u001b[0mx\u001b[0m \u001b[0;34m=\u001b[0m \u001b[0mnp\u001b[0m\u001b[0;34m.\u001b[0m\u001b[0mlinspace\u001b[0m\u001b[0;34m(\u001b[0m\u001b[0;36m0\u001b[0m\u001b[0;34m,\u001b[0m \u001b[0;36m1.2\u001b[0m\u001b[0;34m,\u001b[0m \u001b[0;36m100\u001b[0m\u001b[0;34m)\u001b[0m\u001b[0;34m\u001b[0m\u001b[0;34m\u001b[0m\u001b[0m\n\u001b[0;32m----> 4\u001b[0;31m \u001b[0mdf\u001b[0m \u001b[0;34m=\u001b[0m \u001b[0mnp\u001b[0m\u001b[0;34m.\u001b[0m\u001b[0mlinspace\u001b[0m\u001b[0;34m(\u001b[0m\u001b[0mt\u001b[0m\u001b[0;34m.\u001b[0m\u001b[0mpdf\u001b[0m\u001b[0;34m(\u001b[0m\u001b[0mx\u001b[0m\u001b[0;34m,\u001b[0m \u001b[0mloc\u001b[0m\u001b[0;34m=\u001b[0m\u001b[0;36m0.05\u001b[0m\u001b[0;34m)\u001b[0m\u001b[0;34m,\u001b[0m \u001b[0mt\u001b[0m\u001b[0;34m.\u001b[0m\u001b[0mpdf\u001b[0m\u001b[0;34m(\u001b[0m\u001b[0mx\u001b[0m\u001b[0;34m,\u001b[0m \u001b[0mloc\u001b[0m\u001b[0;34m=\u001b[0m\u001b[0;36m0.1\u001b[0m\u001b[0;34m)\u001b[0m\u001b[0;34m,\u001b[0m \u001b[0;36m100\u001b[0m\u001b[0;34m)\u001b[0m\u001b[0;34m\u001b[0m\u001b[0;34m\u001b[0m\u001b[0m\n\u001b[0m\u001b[1;32m      5\u001b[0m \u001b[0mrandom_sample\u001b[0m \u001b[0;34m=\u001b[0m \u001b[0mt\u001b[0m\u001b[0;34m.\u001b[0m\u001b[0mrvs\u001b[0m\u001b[0;34m(\u001b[0m\u001b[0mdf\u001b[0m\u001b[0;34m,\u001b[0m \u001b[0msize\u001b[0m\u001b[0;34m=\u001b[0m\u001b[0;36m100\u001b[0m\u001b[0;34m)\u001b[0m\u001b[0;34m\u001b[0m\u001b[0;34m\u001b[0m\u001b[0m\n\u001b[1;32m      6\u001b[0m \u001b[0mplt\u001b[0m\u001b[0;34m.\u001b[0m\u001b[0mplot\u001b[0m\u001b[0;34m(\u001b[0m\u001b[0mrandom_sample\u001b[0m\u001b[0;34m)\u001b[0m\u001b[0;34m\u001b[0m\u001b[0;34m\u001b[0m\u001b[0m\n",
      "\u001b[0;32m//anaconda3/lib/python3.7/site-packages/scipy/stats/_distn_infrastructure.py\u001b[0m in \u001b[0;36mpdf\u001b[0;34m(self, x, *args, **kwds)\u001b[0m\n\u001b[1;32m   1714\u001b[0m \u001b[0;34m\u001b[0m\u001b[0m\n\u001b[1;32m   1715\u001b[0m         \"\"\"\n\u001b[0;32m-> 1716\u001b[0;31m         \u001b[0margs\u001b[0m\u001b[0;34m,\u001b[0m \u001b[0mloc\u001b[0m\u001b[0;34m,\u001b[0m \u001b[0mscale\u001b[0m \u001b[0;34m=\u001b[0m \u001b[0mself\u001b[0m\u001b[0;34m.\u001b[0m\u001b[0m_parse_args\u001b[0m\u001b[0;34m(\u001b[0m\u001b[0;34m*\u001b[0m\u001b[0margs\u001b[0m\u001b[0;34m,\u001b[0m \u001b[0;34m**\u001b[0m\u001b[0mkwds\u001b[0m\u001b[0;34m)\u001b[0m\u001b[0;34m\u001b[0m\u001b[0;34m\u001b[0m\u001b[0m\n\u001b[0m\u001b[1;32m   1717\u001b[0m         \u001b[0mx\u001b[0m\u001b[0;34m,\u001b[0m \u001b[0mloc\u001b[0m\u001b[0;34m,\u001b[0m \u001b[0mscale\u001b[0m \u001b[0;34m=\u001b[0m \u001b[0mmap\u001b[0m\u001b[0;34m(\u001b[0m\u001b[0masarray\u001b[0m\u001b[0;34m,\u001b[0m \u001b[0;34m(\u001b[0m\u001b[0mx\u001b[0m\u001b[0;34m,\u001b[0m \u001b[0mloc\u001b[0m\u001b[0;34m,\u001b[0m \u001b[0mscale\u001b[0m\u001b[0;34m)\u001b[0m\u001b[0;34m)\u001b[0m\u001b[0;34m\u001b[0m\u001b[0;34m\u001b[0m\u001b[0m\n\u001b[1;32m   1718\u001b[0m         \u001b[0margs\u001b[0m \u001b[0;34m=\u001b[0m \u001b[0mtuple\u001b[0m\u001b[0;34m(\u001b[0m\u001b[0mmap\u001b[0m\u001b[0;34m(\u001b[0m\u001b[0masarray\u001b[0m\u001b[0;34m,\u001b[0m \u001b[0margs\u001b[0m\u001b[0;34m)\u001b[0m\u001b[0;34m)\u001b[0m\u001b[0;34m\u001b[0m\u001b[0;34m\u001b[0m\u001b[0m\n",
      "\u001b[0;31mTypeError\u001b[0m: _parse_args() missing 1 required positional argument: 'df'"
     ]
    }
   ],
   "source": [
    "# INCOMPLETE\n",
    "\n",
    "from scipy.stats import t\n",
    "\n",
    "x = np.linspace(0, 1.2, 100)\n",
    "df = np.linspace(t.pdf(x, loc=0.05), t.pdf(x, loc=0.1), 100)\n",
    "random_sample = t.rvs(df, size=100)\n",
    "plt.plot(random_sample)\n",
    "\n",
    "n_calls_in_hour = len(waiting_times_per_hour[9])\n",
    "plt.figure(figsize=(8, 4))\n",
    "plt.hist(waiting_times_per_hour[9], bins=n_calls_in_hour)\n",
    "plt.show()"
   ]
  },
  {
   "cell_type": "code",
   "execution_count": null,
   "metadata": {},
   "outputs": [],
   "source": []
  }
 ],
 "metadata": {
  "kernelspec": {
   "display_name": "Python 3",
   "language": "python",
   "name": "python3"
  },
  "language_info": {
   "codemirror_mode": {
    "name": "ipython",
    "version": 3
   },
   "file_extension": ".py",
   "mimetype": "text/x-python",
   "name": "python",
   "nbconvert_exporter": "python",
   "pygments_lexer": "ipython3",
   "version": "3.7.3"
  }
 },
 "nbformat": 4,
 "nbformat_minor": 2
}
